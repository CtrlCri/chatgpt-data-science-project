{
 "cells": [
  {
   "attachments": {},
   "cell_type": "markdown",
   "metadata": {},
   "source": [
    "# Loan Data\n",
    "Mirá vo', este conjunto de datos se llama \"Datos de préstamos\" y tiene más de 9.500 préstamos con información sobre cómo se estructuró el préstamo, quién lo pidió y si lo pagó en su totalidad. Se sacó esta data de LendingClub.com, una empresa que conecta a los que quieren pedir plata prestada con los inversores.\n",
    "\n",
    "¿No sabés por dónde arrancar? ¡Andá para abajo del todo pa' encontrar los desafíos!"
   ]
  },
  {
   "attachments": {},
   "cell_type": "markdown",
   "metadata": {},
   "source": [
    "Che, en este proyecto, vamos a usar los Datos de Préstamos del DataCamp Workspace y vamos a armar el proyecto de ciencia de datos en base a eso. Mirá, ChatGPT hace el 80 por ciento del laburo acá, nosotros nomás tenemos que ser piolas con la ingeniería de las consignas para que todo salga bien. Y para eso, tenemos nuestra increíble \"Cheat Sheet\" de ChatGPT para Ciencia de Datos. Viene con más de 60 consignas de ChatGPT para tareas de ciencia de datos basadas en SQL, R y Python. ¡Es una joya, te lo digo!"
   ]
  },
  {
   "attachments": {},
   "cell_type": "markdown",
   "metadata": {},
   "source": [
    "# Planificación del Proyecto\n",
    "Es la parte más importante del proyecto, donde vemos los recursos disponibles y los objetivos para desarrollar una estrategia óptima.\n",
    "\n",
    "Mirá, lo que podés hacer es ir a chat.openai.com y empezar una nueva charla. Después, mencionamos el conjunto de datos de préstamos disponible y le pedimos a ChatGPT que nos tire los pasos para armar un proyecto de cartera genérico de principio a fin. ¡Vamos a ver qué ideas copadas se le ocurren!"
   ]
  },
  {
   "attachments": {},
   "cell_type": "markdown",
   "metadata": {},
   "source": [
    "Prompt: “I have a loan dataset consisting of 9500 rows and 14 columns: ['credit.policy', 'purpose', 'int.rate', 'installment', 'log.annual.inc','dti', 'fico', 'days.with.cr.line', 'revol.bal', 'revol.util', 'inq.last.6mths', 'delinq.2yrs', 'pub.rec', 'not.fully.paid']. Can you list the steps I have to follow to develop an end-to-end project for my portfolio.”\n",
    "\n",
    "We did get the list, but we forgot to mention the class imbalance issue and the project goal, which is to accurately predict “loan not paid back”. \n",
    "\n",
    "Updated Prompt: “Please include class imbalance issues and accurately predict whether a loan will not be paid back rather than if a loan is paid back.”\n",
    "\n",
    "Again, we are not interested in model monitoring, and we want to build a Gradio app and deploy it on Huggingface Spaces. \n",
    "\n",
    "Updated Prompt: “We will be creating a web app using Gradio and deploying it on Spaces and we won't be monitoring the model in the production.”"
   ]
  },
  {
   "attachments": {},
   "cell_type": "markdown",
   "metadata": {},
   "source": [
    "Acá tenemos una lista de 9 pasos y una explicación detallada de cómo encarar cada uno:\n",
    "\n",
    "1. Limpieza y preprocesamiento de datos. Manejar los valores faltantes, convertir variables categóricas en variables numéricas, escalar/normalizar los datos, y manejar cualquier valor atípico o anomalía en los datos. Además, tenés que abordar el problema del desbalance de clases mediante sobre-muestreo de la clase minoritaria (préstamos no completamente pagados) o sub-muestreo de la clase mayoritaria (préstamos completamente pagados).\n",
    "\n",
    "2. Análisis exploratorio de datos (EDA). Explorar el conjunto de datos para obtener información sobre las distribuciones de las variables, las correlaciones entre las variables, e identificar patrones en los datos.\n",
    "\n",
    "3. Ingeniería de características. Crear nuevas características o transformar características existentes para mejorar el poder predictivo del modelo.\n",
    "\n",
    "4. Selección del modelo. Probar varios modelos, como árboles de decisión, bosques aleatorios, regresión logística o máquinas de vectores de soporte (SVM).\n",
    "\n",
    "5. Entrenamiento y evaluación del modelo. Entrenar el modelo seleccionado con los datos y evaluar su rendimiento utilizando varias métricas como precisión, recall, y puntaje F1.\n",
    "\n",
    "6. Ajuste de hiperparámetros. Ajustar los hiperparámetros del modelo seleccionado para mejorar su rendimiento.\n",
    "\n",
    "7. Creación de la aplicación web usando Gradio. Una vez que hayas seleccionado el mejor modelo, podés crear una aplicación web utilizando Gradio.\n",
    "\n",
    "8. Despliegue de la aplicación web en Spaces. Una vez que hayas creado la aplicación web con Gradio, podés desplegarla en Spaces.\n",
    "\n",
    "9. Prueba de la aplicación web. Probarla para asegurarse de que esté funcionando como se espera.\n",
    "\n",
    "Espero que esta lista de tareas te ayude a desarrollar tu proyecto, ¡a ponerle garra!"
   ]
  },
  {
   "cell_type": "markdown",
   "metadata": {},
   "source": []
  }
 ],
 "metadata": {
  "language_info": {
   "name": "python"
  },
  "orig_nbformat": 4
 },
 "nbformat": 4,
 "nbformat_minor": 2
}
