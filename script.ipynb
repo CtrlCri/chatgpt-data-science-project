{
 "cells": [
  {
   "attachments": {},
   "cell_type": "markdown",
   "metadata": {},
   "source": [
    "# Loan Data\n",
    "Mirá vo', este conjunto de datos se llama \"Datos de préstamos\" y tiene más de 9.500 préstamos con información sobre cómo se estructuró el préstamo, quién lo pidió y si lo pagó en su totalidad. Se sacó esta data de LendingClub.com, una empresa que conecta a los que quieren pedir plata prestada con los inversores.\n",
    "\n",
    "¿No sabés por dónde arrancar? ¡Andá para abajo del todo pa' encontrar los desafíos!"
   ]
  },
  {
   "cell_type": "markdown",
   "metadata": {},
   "source": []
  }
 ],
 "metadata": {
  "language_info": {
   "name": "python"
  },
  "orig_nbformat": 4
 },
 "nbformat": 4,
 "nbformat_minor": 2
}
