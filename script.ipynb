{
 "cells": [
  {
   "attachments": {},
   "cell_type": "markdown",
   "metadata": {},
   "source": [
    "# Loan Data\n",
    "Este conjunto de datos se llama \"Datos de préstamos\" y tiene más de 9.500 préstamos con información sobre cómo se estructuró el préstamo, quién lo solicitó y si lo pagó en su totalidad. Esta información fue obtenida de LendingClub.com, una empresa que conecta a personas que desean pedir prestado dinero con inversores.\n"
   ]
  },
  {
   "attachments": {},
   "cell_type": "markdown",
   "metadata": {},
   "source": [
    " En este proyecto vamos a utilizar los Datos de Préstamos para construir el proyecto de ciencia de datos en base a ellos. Mira, ChatGPT hace el 80 por ciento del trabajo aquí, nosotros sólo tenemos que ser buenos en la ingeniería de las consignas para que todo salga bien. "
   ]
  },
  {
   "attachments": {},
   "cell_type": "markdown",
   "metadata": {},
   "source": [
    "# Planificación del Proyecto\n",
    "Es la parte más importante del proyecto, donde vemos los recursos disponibles y los objetivos para desarrollar una estrategia óptima.\n",
    "\n",
    "Lo que puedes hacer es ir a chat.openai.com y comenzar una nueva conversación. Luego, mencionamos el conjunto de datos de préstamos disponible y le pedimos a ChatGPT que nos proporcione los pasos para crear un proyecto de cartera genérico desde el principio hasta el final. ¡Vamos a ver qué ideas interesantes se le ocurren!"
   ]
  },
  {
   "attachments": {},
   "cell_type": "markdown",
   "metadata": {},
   "source": [
    "Prompt: “I have a loan dataset consisting of 9500 rows and 14 columns: ['credit.policy', 'purpose', 'int.rate', 'installment', 'log.annual.inc','dti', 'fico', 'days.with.cr.line', 'revol.bal', 'revol.util', 'inq.last.6mths', 'delinq.2yrs', 'pub.rec', 'not.fully.paid']. Can you list the steps I have to follow to develop an end-to-end project for my portfolio.”\n",
    "\n",
    "We did get the list, but we forgot to mention the class imbalance issue and the project goal, which is to accurately predict “loan not paid back”. \n",
    "\n",
    "Updated Prompt: “Please include class imbalance issues and accurately predict whether a loan will not be paid back rather than if a loan is paid back.”\n",
    "\n",
    "Again, we are not interested in model monitoring, and we want to build a Gradio app and deploy it on Huggingface Spaces. \n",
    "\n",
    "Updated Prompt: “We will be creating a web app using Gradio and deploying it on Spaces and we won't be monitoring the model in the production.”"
   ]
  },
  {
   "attachments": {},
   "cell_type": "markdown",
   "metadata": {},
   "source": [
    "Aquí tenemos una lista de 9 pasos y una explicación detallada de cómo abordar cada uno:\n",
    "\n",
    "1. Limpieza y preprocesamiento de datos. Manejar los valores faltantes, convertir variables categóricas en variables numéricas, escalar/normalizar los datos, y manejar cualquier valor atípico o anomalía en los datos. Además, tienes que abordar el problema del desbalance de clases mediante sobre-muestreo de la clase minoritaria (préstamos no completamente pagados) o sub-muestreo de la clase mayoritaria (préstamos completamente pagados).\n",
    "\n",
    "2. Análisis exploratorio de datos (EDA). Explorar el conjunto de datos para obtener información sobre las distribuciones de las variables, las correlaciones entre las variables, e identificar patrones en los datos.\n",
    "\n",
    "3. Ingeniería de características. Crear nuevas características o transformar características existentes para mejorar el poder predictivo del modelo.\n",
    "\n",
    "4. Selección del modelo. Probar varios modelos, como árboles de decisión, bosques aleatorios, regresión logística o máquinas de vectores de soporte (SVM).\n",
    "\n",
    "5. Entrenamiento y evaluación del modelo. Entrenar el modelo seleccionado con los datos y evaluar su rendimiento utilizando varias métricas como precisión, recall, y puntaje F1.\n",
    "\n",
    "6. Ajuste de hiperparámetros. Ajustar los hiperparámetros del modelo seleccionado para mejorar su rendimiento.\n",
    "\n",
    "7. Creación de la aplicación web usando Gradio. Una vez que hayas seleccionado el mejor modelo, puedes crear una aplicación web utilizando Gradio.\n",
    "\n",
    "8. Despliegue de la aplicación web en Spaces. Una vez que hayas creado la aplicación web con Gradio, puedes desplegarla en Spaces.\n",
    "\n",
    "9. Prueba de la aplicación web. Probarla para asegurarse de que esté funcionando como se espera.\n",
    "\n",
    "Espero que esta lista de tareas te ayude a desarrollar tu proyecto. ¡Éxitos!"
   ]
  },
  {
   "attachments": {},
   "cell_type": "markdown",
   "metadata": {},
   "source": [
    "# Análisis Exploratorio de Datos (EDA)\n",
    "Se trata de analizar los datos mediante técnicas estadísticas y visualización. Además, podemos agregar una consulta sobre cómo escribir código en Python para hacer un análisis más avanzado de los datos en nuestro conjunto de datos."
   ]
  },
  {
   "attachments": {},
   "cell_type": "markdown",
   "metadata": {},
   "source": [
    "Follow-Up Prompt: “Please write a Python code to load and perform Exploratory data analysis (EDA) on loan dataset”"
   ]
  },
  {
   "attachments": {},
   "cell_type": "markdown",
   "metadata": {},
   "source": [
    "El bot lo va a entender bien al mambo y te va a tirar código en Python con comentarios y una explicación detallada de cómo funciona, ¡quedate tranqui!"
   ]
  },
  {
   "attachments": {},
   "cell_type": "markdown",
   "metadata": {},
   "source": [
    "1. Cargando y mostrando el conjunto de datos como dataframe de Pandas."
   ]
  },
  {
   "cell_type": "code",
   "execution_count": 1,
   "metadata": {},
   "outputs": [
    {
     "data": {
      "text/html": [
       "<div>\n",
       "<style scoped>\n",
       "    .dataframe tbody tr th:only-of-type {\n",
       "        vertical-align: middle;\n",
       "    }\n",
       "\n",
       "    .dataframe tbody tr th {\n",
       "        vertical-align: top;\n",
       "    }\n",
       "\n",
       "    .dataframe thead th {\n",
       "        text-align: right;\n",
       "    }\n",
       "</style>\n",
       "<table border=\"1\" class=\"dataframe\">\n",
       "  <thead>\n",
       "    <tr style=\"text-align: right;\">\n",
       "      <th></th>\n",
       "      <th>credit.policy</th>\n",
       "      <th>purpose</th>\n",
       "      <th>int.rate</th>\n",
       "      <th>installment</th>\n",
       "      <th>log.annual.inc</th>\n",
       "      <th>dti</th>\n",
       "      <th>fico</th>\n",
       "      <th>days.with.cr.line</th>\n",
       "      <th>revol.bal</th>\n",
       "      <th>revol.util</th>\n",
       "      <th>inq.last.6mths</th>\n",
       "      <th>delinq.2yrs</th>\n",
       "      <th>pub.rec</th>\n",
       "      <th>not.fully.paid</th>\n",
       "    </tr>\n",
       "  </thead>\n",
       "  <tbody>\n",
       "    <tr>\n",
       "      <th>0</th>\n",
       "      <td>1</td>\n",
       "      <td>debt_consolidation</td>\n",
       "      <td>0.1189</td>\n",
       "      <td>829.10</td>\n",
       "      <td>11.350407</td>\n",
       "      <td>19.48</td>\n",
       "      <td>737</td>\n",
       "      <td>5639.958333</td>\n",
       "      <td>28854</td>\n",
       "      <td>52.1</td>\n",
       "      <td>0</td>\n",
       "      <td>0</td>\n",
       "      <td>0</td>\n",
       "      <td>0</td>\n",
       "    </tr>\n",
       "    <tr>\n",
       "      <th>1</th>\n",
       "      <td>1</td>\n",
       "      <td>credit_card</td>\n",
       "      <td>0.1071</td>\n",
       "      <td>228.22</td>\n",
       "      <td>11.082143</td>\n",
       "      <td>14.29</td>\n",
       "      <td>707</td>\n",
       "      <td>2760.000000</td>\n",
       "      <td>33623</td>\n",
       "      <td>76.7</td>\n",
       "      <td>0</td>\n",
       "      <td>0</td>\n",
       "      <td>0</td>\n",
       "      <td>0</td>\n",
       "    </tr>\n",
       "    <tr>\n",
       "      <th>2</th>\n",
       "      <td>1</td>\n",
       "      <td>debt_consolidation</td>\n",
       "      <td>0.1357</td>\n",
       "      <td>366.86</td>\n",
       "      <td>10.373491</td>\n",
       "      <td>11.63</td>\n",
       "      <td>682</td>\n",
       "      <td>4710.000000</td>\n",
       "      <td>3511</td>\n",
       "      <td>25.6</td>\n",
       "      <td>1</td>\n",
       "      <td>0</td>\n",
       "      <td>0</td>\n",
       "      <td>0</td>\n",
       "    </tr>\n",
       "    <tr>\n",
       "      <th>3</th>\n",
       "      <td>1</td>\n",
       "      <td>debt_consolidation</td>\n",
       "      <td>0.1008</td>\n",
       "      <td>162.34</td>\n",
       "      <td>11.350407</td>\n",
       "      <td>8.10</td>\n",
       "      <td>712</td>\n",
       "      <td>2699.958333</td>\n",
       "      <td>33667</td>\n",
       "      <td>73.2</td>\n",
       "      <td>1</td>\n",
       "      <td>0</td>\n",
       "      <td>0</td>\n",
       "      <td>0</td>\n",
       "    </tr>\n",
       "    <tr>\n",
       "      <th>4</th>\n",
       "      <td>1</td>\n",
       "      <td>credit_card</td>\n",
       "      <td>0.1426</td>\n",
       "      <td>102.92</td>\n",
       "      <td>11.299732</td>\n",
       "      <td>14.97</td>\n",
       "      <td>667</td>\n",
       "      <td>4066.000000</td>\n",
       "      <td>4740</td>\n",
       "      <td>39.5</td>\n",
       "      <td>0</td>\n",
       "      <td>1</td>\n",
       "      <td>0</td>\n",
       "      <td>0</td>\n",
       "    </tr>\n",
       "  </tbody>\n",
       "</table>\n",
       "</div>"
      ],
      "text/plain": [
       "   credit.policy             purpose  int.rate  installment  log.annual.inc   \n",
       "0              1  debt_consolidation    0.1189       829.10       11.350407  \\\n",
       "1              1         credit_card    0.1071       228.22       11.082143   \n",
       "2              1  debt_consolidation    0.1357       366.86       10.373491   \n",
       "3              1  debt_consolidation    0.1008       162.34       11.350407   \n",
       "4              1         credit_card    0.1426       102.92       11.299732   \n",
       "\n",
       "     dti  fico  days.with.cr.line  revol.bal  revol.util  inq.last.6mths   \n",
       "0  19.48   737        5639.958333      28854        52.1               0  \\\n",
       "1  14.29   707        2760.000000      33623        76.7               0   \n",
       "2  11.63   682        4710.000000       3511        25.6               1   \n",
       "3   8.10   712        2699.958333      33667        73.2               1   \n",
       "4  14.97   667        4066.000000       4740        39.5               0   \n",
       "\n",
       "   delinq.2yrs  pub.rec  not.fully.paid  \n",
       "0            0        0               0  \n",
       "1            0        0               0  \n",
       "2            0        0               0  \n",
       "3            0        0               0  \n",
       "4            1        0               0  "
      ]
     },
     "execution_count": 1,
     "metadata": {},
     "output_type": "execute_result"
    }
   ],
   "source": [
    "import pandas as pd\n",
    "import matplotlib.pyplot as plt\n",
    "import seaborn as sns\n",
    "\n",
    "loan_df = pd.read_csv(\"loan_data.csv\")\n",
    "\n",
    "loan_df.head()"
   ]
  },
  {
   "attachments": {},
   "cell_type": "markdown",
   "metadata": {},
   "source": [
    "2. Visualización del número de filas y columnas y resumen estadístico para variables numéricas."
   ]
  },
  {
   "cell_type": "code",
   "execution_count": 2,
   "metadata": {},
   "outputs": [
    {
     "name": "stdout",
     "output_type": "stream",
     "text": [
      "Number of rows and columns: (999, 14)\n",
      "       credit.policy    int.rate  installment  log.annual.inc         dti   \n",
      "count          999.0  999.000000   999.000000      999.000000  999.000000  \\\n",
      "mean             1.0    0.107577   310.902533       10.916324   11.355516   \n",
      "std              0.0    0.020435   202.412783        0.609735    6.724333   \n",
      "min              1.0    0.060000    15.690000        8.517193    0.000000   \n",
      "25%              1.0    0.094500   158.795000       10.524064    5.835000   \n",
      "50%              1.0    0.107100   263.090000       10.915016   11.250000   \n",
      "75%              1.0    0.120400   405.720000       11.289782   16.775000   \n",
      "max              1.0    0.183600   895.560000       14.528354   29.150000   \n",
      "\n",
      "             fico  days.with.cr.line      revol.bal  revol.util   \n",
      "count  999.000000         999.000000     999.000000  999.000000  \\\n",
      "mean   713.566567        4513.026193   13926.656657   43.185485   \n",
      "std     38.234763        2394.767561   17983.227962   28.727320   \n",
      "min    627.000000        1110.000000       0.000000    0.000000   \n",
      "25%    682.000000        2729.500000    3099.000000   17.250000   \n",
      "50%    707.000000        4140.000000    8375.000000   42.800000   \n",
      "75%    742.000000        5611.458333   17602.000000   66.100000   \n",
      "max    822.000000       16259.041670  148829.000000   99.100000   \n",
      "\n",
      "       inq.last.6mths  delinq.2yrs     pub.rec  not.fully.paid  \n",
      "count      999.000000   999.000000  999.000000       999.00000  \n",
      "mean         0.993994     0.193193    0.076076         0.17017  \n",
      "std          1.180148     0.560662    0.269004         0.37597  \n",
      "min          0.000000     0.000000    0.000000         0.00000  \n",
      "25%          0.000000     0.000000    0.000000         0.00000  \n",
      "50%          1.000000     0.000000    0.000000         0.00000  \n",
      "75%          2.000000     0.000000    0.000000         0.00000  \n",
      "max          8.000000     5.000000    2.000000         1.00000  \n"
     ]
    }
   ],
   "source": [
    "# Display the number of rows and columns in the dataset\n",
    "print(\"Number of rows and columns:\", loan_df.shape)\n",
    "\n",
    "# Display summary statistics for numerical variables\n",
    "print(loan_df.describe())"
   ]
  },
  {
   "attachments": {},
   "cell_type": "markdown",
   "metadata": {},
   "source": [
    "3. Mostrar valores faltantes en cada columna. Como podemos ver, no tenemos ninguno."
   ]
  },
  {
   "cell_type": "code",
   "execution_count": 3,
   "metadata": {},
   "outputs": [
    {
     "name": "stdout",
     "output_type": "stream",
     "text": [
      "credit.policy        0\n",
      "purpose              0\n",
      "int.rate             0\n",
      "installment          0\n",
      "log.annual.inc       0\n",
      "dti                  0\n",
      "fico                 0\n",
      "days.with.cr.line    0\n",
      "revol.bal            0\n",
      "revol.util           0\n",
      "inq.last.6mths       0\n",
      "delinq.2yrs          0\n",
      "pub.rec              0\n",
      "not.fully.paid       0\n",
      "dtype: int64\n"
     ]
    }
   ],
   "source": [
    "print(loan_df.isnull().sum())"
   ]
  },
  {
   "attachments": {},
   "cell_type": "markdown",
   "metadata": {},
   "source": [
    "4. Visualización de la distribución de la variable objetivo “not.fully.paid”."
   ]
  },
  {
   "cell_type": "code",
   "execution_count": 4,
   "metadata": {},
   "outputs": [
    {
     "data": {
      "image/png": "[encoded data removed]",
      "text/plain": [
       "<Figure size 640x480 with 1 Axes>"
      ]
     },
     "metadata": {},
     "output_type": "display_data"
    }
   ],
   "source": [
    "sns.countplot(x=\"not.fully.paid\", data=loan_df)\n",
    "plt.show()"
   ]
  },
  {
   "attachments": {},
   "cell_type": "markdown",
   "metadata": {},
   "source": [
    "5. Visualización de la correlación entre variables."
   ]
  },
  {
   "cell_type": "code",
   "execution_count": 8,
   "metadata": {},
   "outputs": [],
   "source": [
    "#corr = loan_df.corr()\n",
    "#sns.heatmap(corr, annot=True, cmap=\"coolwarm\")\n",
    "#plt.show()"
   ]
  },
  {
   "attachments": {},
   "cell_type": "markdown",
   "metadata": {},
   "source": [
    "6. Comprender la distribución del propósito del préstamo."
   ]
  },
  {
   "cell_type": "code",
   "execution_count": null,
   "metadata": {},
   "outputs": [],
   "source": [
    "sns.countplot(x=\"purpose\", data=loan_df)\n",
    "plt.xticks(rotation=90)\n",
    "plt.show()"
   ]
  }
 ],
 "metadata": {
  "kernelspec": {
   "display_name": "venv",
   "language": "python",
   "name": "python3"
  },
  "language_info": {
   "codemirror_mode": {
    "name": "ipython",
    "version": 3
   },
   "file_extension": ".py",
   "mimetype": "text/x-python",
   "name": "python",
   "nbconvert_exporter": "python",
   "pygments_lexer": "ipython3",
   "version": "3.10.4"
  },
  "orig_nbformat": 4,
  "vscode": {
   "interpreter": {
    "hash": "50ba159d72db7abdf4db3097ae6bee7023c5447084c19695bb1d42bf94a51658"
   }
  }
 },
 "nbformat": 4,
 "nbformat_minor": 2
}
